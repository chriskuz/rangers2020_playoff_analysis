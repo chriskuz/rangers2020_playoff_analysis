{
 "nbformat": 4,
 "nbformat_minor": 2,
 "metadata": {
  "language_info": {
   "name": "python",
   "codemirror_mode": {
    "name": "ipython",
    "version": 3
   },
   "version": "3.7.6-final"
  },
  "orig_nbformat": 2,
  "file_extension": ".py",
  "mimetype": "text/x-python",
  "name": "python",
  "npconvert_exporter": "python",
  "pygments_lexer": "ipython3",
  "version": 3,
  "kernelspec": {
   "name": "python37664bithockeyenvcondae52d2c0d4f3c4bc5870f01ced0fd1088",
   "display_name": "Python 3.7.6 64-bit ('hockey_env': conda)"
  }
 },
 "cells": [
  {
   "cell_type": "code",
   "execution_count": 1,
   "metadata": {},
   "outputs": [],
   "source": [
    "import pandas as pd\n",
    "import numpy as np\n",
    "import matplotlib.pyplot as plt\n",
    "import seaborn as sns"
   ]
  },
  {
   "cell_type": "markdown",
   "metadata": {},
   "source": [
    "## Data Loading"
   ]
  },
  {
   "cell_type": "code",
   "execution_count": 4,
   "metadata": {},
   "outputs": [],
   "source": [
    "career_game_by_game = pd.read_csv('http://moneypuck.com/moneypuck/playerData/careers/gameByGame/regular/skaters/8476459.csv')\n",
    "career_summarized_by_season = pd.read_csv('http://moneypuck.com/moneypuck/playerData/careers/perSeason/regular/skaters/8476459.csv')"
   ]
  },
  {
   "cell_type": "markdown",
   "metadata": {},
   "source": [
    "## Career (Game by Game) Inspection and Cleaning"
   ]
  },
  {
   "cell_type": "code",
   "execution_count": 3,
   "metadata": {},
   "outputs": [
    {
     "data": {
      "text/html": "<div>\n<style scoped>\n    .dataframe tbody tr th:only-of-type {\n        vertical-align: middle;\n    }\n\n    .dataframe tbody tr th {\n        vertical-align: top;\n    }\n\n    .dataframe thead th {\n        text-align: right;\n    }\n</style>\n<table border=\"1\" class=\"dataframe\">\n  <thead>\n    <tr style=\"text-align: right;\">\n      <th></th>\n      <th>playerId</th>\n      <th>season</th>\n      <th>name</th>\n      <th>gameId</th>\n      <th>playerTeam</th>\n      <th>opposingTeam</th>\n      <th>home_or_away</th>\n      <th>gameDate</th>\n      <th>position</th>\n      <th>situation</th>\n      <th>...</th>\n      <th>OffIce_F_xGoals</th>\n      <th>OffIce_A_xGoals</th>\n      <th>OffIce_F_shotAttempts</th>\n      <th>OffIce_A_shotAttempts</th>\n      <th>xGoalsForAfterShifts</th>\n      <th>xGoalsAgainstAfterShifts</th>\n      <th>corsiForAfterShifts</th>\n      <th>corsiAgainstAfterShifts</th>\n      <th>fenwickForAfterShifts</th>\n      <th>fenwickAgainstAfterShifts</th>\n    </tr>\n  </thead>\n  <tbody>\n    <tr>\n      <th>0</th>\n      <td>8476459</td>\n      <td>2011</td>\n      <td>Mika Zibanejad</td>\n      <td>2011020005</td>\n      <td>OTT</td>\n      <td>DET</td>\n      <td>AWAY</td>\n      <td>20111007</td>\n      <td>C</td>\n      <td>other</td>\n      <td>...</td>\n      <td>0.000</td>\n      <td>0.000</td>\n      <td>0.0</td>\n      <td>0.0</td>\n      <td>0.0</td>\n      <td>0.0</td>\n      <td>0.0</td>\n      <td>0.0</td>\n      <td>0.0</td>\n      <td>0.0</td>\n    </tr>\n    <tr>\n      <th>1</th>\n      <td>8476459</td>\n      <td>2011</td>\n      <td>Mika Zibanejad</td>\n      <td>2011020005</td>\n      <td>OTT</td>\n      <td>DET</td>\n      <td>AWAY</td>\n      <td>20111007</td>\n      <td>C</td>\n      <td>all</td>\n      <td>...</td>\n      <td>2.891</td>\n      <td>2.389</td>\n      <td>50.0</td>\n      <td>50.0</td>\n      <td>0.0</td>\n      <td>0.0</td>\n      <td>0.0</td>\n      <td>0.0</td>\n      <td>0.0</td>\n      <td>0.0</td>\n    </tr>\n    <tr>\n      <th>2</th>\n      <td>8476459</td>\n      <td>2011</td>\n      <td>Mika Zibanejad</td>\n      <td>2011020005</td>\n      <td>OTT</td>\n      <td>DET</td>\n      <td>AWAY</td>\n      <td>20111007</td>\n      <td>C</td>\n      <td>5on5</td>\n      <td>...</td>\n      <td>2.114</td>\n      <td>1.303</td>\n      <td>40.0</td>\n      <td>31.0</td>\n      <td>0.0</td>\n      <td>0.0</td>\n      <td>0.0</td>\n      <td>0.0</td>\n      <td>0.0</td>\n      <td>0.0</td>\n    </tr>\n    <tr>\n      <th>3</th>\n      <td>8476459</td>\n      <td>2011</td>\n      <td>Mika Zibanejad</td>\n      <td>2011020005</td>\n      <td>OTT</td>\n      <td>DET</td>\n      <td>AWAY</td>\n      <td>20111007</td>\n      <td>C</td>\n      <td>4on5</td>\n      <td>...</td>\n      <td>0.000</td>\n      <td>0.000</td>\n      <td>0.0</td>\n      <td>0.0</td>\n      <td>0.0</td>\n      <td>0.0</td>\n      <td>0.0</td>\n      <td>0.0</td>\n      <td>0.0</td>\n      <td>0.0</td>\n    </tr>\n    <tr>\n      <th>4</th>\n      <td>8476459</td>\n      <td>2011</td>\n      <td>Mika Zibanejad</td>\n      <td>2011020005</td>\n      <td>OTT</td>\n      <td>DET</td>\n      <td>AWAY</td>\n      <td>20111007</td>\n      <td>C</td>\n      <td>5on4</td>\n      <td>...</td>\n      <td>0.696</td>\n      <td>0.000</td>\n      <td>5.0</td>\n      <td>0.0</td>\n      <td>0.0</td>\n      <td>0.0</td>\n      <td>0.0</td>\n      <td>0.0</td>\n      <td>0.0</td>\n      <td>0.0</td>\n    </tr>\n  </tbody>\n</table>\n<p>5 rows × 157 columns</p>\n</div>",
      "text/plain": "   playerId  season            name      gameId playerTeam opposingTeam  \\\n0   8476459    2011  Mika Zibanejad  2011020005        OTT          DET   \n1   8476459    2011  Mika Zibanejad  2011020005        OTT          DET   \n2   8476459    2011  Mika Zibanejad  2011020005        OTT          DET   \n3   8476459    2011  Mika Zibanejad  2011020005        OTT          DET   \n4   8476459    2011  Mika Zibanejad  2011020005        OTT          DET   \n\n  home_or_away  gameDate position situation  ...  OffIce_F_xGoals  \\\n0         AWAY  20111007        C     other  ...            0.000   \n1         AWAY  20111007        C       all  ...            2.891   \n2         AWAY  20111007        C      5on5  ...            2.114   \n3         AWAY  20111007        C      4on5  ...            0.000   \n4         AWAY  20111007        C      5on4  ...            0.696   \n\n   OffIce_A_xGoals  OffIce_F_shotAttempts  OffIce_A_shotAttempts  \\\n0            0.000                    0.0                    0.0   \n1            2.389                   50.0                   50.0   \n2            1.303                   40.0                   31.0   \n3            0.000                    0.0                    0.0   \n4            0.000                    5.0                    0.0   \n\n   xGoalsForAfterShifts  xGoalsAgainstAfterShifts  corsiForAfterShifts  \\\n0                   0.0                       0.0                  0.0   \n1                   0.0                       0.0                  0.0   \n2                   0.0                       0.0                  0.0   \n3                   0.0                       0.0                  0.0   \n4                   0.0                       0.0                  0.0   \n\n   corsiAgainstAfterShifts  fenwickForAfterShifts  fenwickAgainstAfterShifts  \n0                      0.0                    0.0                        0.0  \n1                      0.0                    0.0                        0.0  \n2                      0.0                    0.0                        0.0  \n3                      0.0                    0.0                        0.0  \n4                      0.0                    0.0                        0.0  \n\n[5 rows x 157 columns]"
     },
     "execution_count": 3,
     "metadata": {},
     "output_type": "execute_result"
    }
   ],
   "source": [
    "career_game_by_game.head()"
   ]
  },
  {
   "cell_type": "code",
   "execution_count": 18,
   "metadata": {},
   "outputs": [
    {
     "name": "stdout",
     "output_type": "stream",
     "text": "['playerId', 'season', 'name', 'gameId', 'playerTeam', 'opposingTeam', 'home_or_away', 'gameDate', 'position', 'situation', 'icetime', 'shifts', 'gameScore', 'onIce_xGoalsPercentage', 'offIce_xGoalsPercentage', 'onIce_corsiPercentage', 'offIce_corsiPercentage', 'onIce_fenwickPercentage', 'offIce_fenwickPercentage', 'iceTimeRank', 'I_F_xOnGoal', 'I_F_xGoals', 'I_F_xRebounds', 'I_F_xFreeze', 'I_F_xPlayStopped', 'I_F_xPlayContinuedInZone', 'I_F_xPlayContinuedOutsideZone', 'I_F_flurryAdjustedxGoals', 'I_F_scoreVenueAdjustedxGoals', 'I_F_flurryScoreVenueAdjustedxGoals', 'I_F_primaryAssists', 'I_F_secondaryAssists', 'I_F_shotsOnGoal', 'I_F_missedShots', 'I_F_blockedShotAttempts', 'I_F_shotAttempts', 'I_F_points', 'I_F_goals', 'I_F_rebounds', 'I_F_reboundGoals', 'I_F_freeze', 'I_F_playStopped', 'I_F_playContinuedInZone', 'I_F_playContinuedOutsideZone', 'I_F_savedShotsOnGoal', 'I_F_savedUnblockedShotAttempts', 'penalties', 'I_F_penalityMinutes', 'I_F_faceOffsWon', 'I_F_hits', 'I_F_takeaways', 'I_F_giveaways', 'I_F_lowDangerShots', 'I_F_mediumDangerShots', 'I_F_highDangerShots', 'I_F_lowDangerxGoals', 'I_F_mediumDangerxGoals', 'I_F_highDangerxGoals', 'I_F_lowDangerGoals', 'I_F_mediumDangerGoals', 'I_F_highDangerGoals', 'I_F_scoreAdjustedShotsAttempts', 'I_F_unblockedShotAttempts', 'I_F_scoreAdjustedUnblockedShotAttempts', 'I_F_dZoneGiveaways', 'I_F_xGoalsFromxReboundsOfShots', 'I_F_xGoalsFromActualReboundsOfShots', 'I_F_reboundxGoals', 'I_F_xGoals_with_earned_rebounds', 'I_F_xGoals_with_earned_rebounds_scoreAdjusted', 'I_F_xGoals_with_earned_rebounds_scoreFlurryAdjusted', 'I_F_shifts', 'I_F_oZoneShiftStarts', 'I_F_dZoneShiftStarts', 'I_F_neutralZoneShiftStarts', 'I_F_flyShiftStarts', 'I_F_oZoneShiftEnds', 'I_F_dZoneShiftEnds', 'I_F_neutralZoneShiftEnds', 'I_F_flyShiftEnds', 'faceoffsWon', 'faceoffsLost', 'timeOnBench', 'penalityMinutes', 'penalityMinutesDrawn', 'penaltiesDrawn', 'shotsBlockedByPlayer', 'OnIce_F_xOnGoal', 'OnIce_F_xGoals', 'OnIce_F_flurryAdjustedxGoals', 'OnIce_F_scoreVenueAdjustedxGoals', 'OnIce_F_flurryScoreVenueAdjustedxGoals', 'OnIce_F_shotsOnGoal', 'OnIce_F_missedShots', 'OnIce_F_blockedShotAttempts', 'OnIce_F_shotAttempts', 'OnIce_F_goals', 'OnIce_F_rebounds', 'OnIce_F_reboundGoals', 'OnIce_F_lowDangerShots', 'OnIce_F_mediumDangerShots', 'OnIce_F_highDangerShots', 'OnIce_F_lowDangerxGoals', 'OnIce_F_mediumDangerxGoals', 'OnIce_F_highDangerxGoals', 'OnIce_F_lowDangerGoals', 'OnIce_F_mediumDangerGoals', 'OnIce_F_highDangerGoals', 'OnIce_F_scoreAdjustedShotsAttempts', 'OnIce_F_unblockedShotAttempts', 'OnIce_F_scoreAdjustedUnblockedShotAttempts', 'OnIce_F_xGoalsFromxReboundsOfShots', 'OnIce_F_xGoalsFromActualReboundsOfShots', 'OnIce_F_reboundxGoals', 'OnIce_F_xGoals_with_earned_rebounds', 'OnIce_F_xGoals_with_earned_rebounds_scoreAdjusted', 'OnIce_F_xGoals_with_earned_rebounds_scoreFlurryAdjusted', 'OnIce_A_xOnGoal', 'OnIce_A_xGoals', 'OnIce_A_flurryAdjustedxGoals', 'OnIce_A_scoreVenueAdjustedxGoals', 'OnIce_A_flurryScoreVenueAdjustedxGoals', 'OnIce_A_shotsOnGoal', 'OnIce_A_missedShots', 'OnIce_A_blockedShotAttempts', 'OnIce_A_shotAttempts', 'OnIce_A_goals', 'OnIce_A_rebounds', 'OnIce_A_reboundGoals', 'OnIce_A_lowDangerShots', 'OnIce_A_mediumDangerShots', 'OnIce_A_highDangerShots', 'OnIce_A_lowDangerxGoals', 'OnIce_A_mediumDangerxGoals', 'OnIce_A_highDangerxGoals', 'OnIce_A_lowDangerGoals', 'OnIce_A_mediumDangerGoals', 'OnIce_A_highDangerGoals', 'OnIce_A_scoreAdjustedShotsAttempts', 'OnIce_A_unblockedShotAttempts', 'OnIce_A_scoreAdjustedUnblockedShotAttempts', 'OnIce_A_xGoalsFromxReboundsOfShots', 'OnIce_A_xGoalsFromActualReboundsOfShots', 'OnIce_A_reboundxGoals', 'OnIce_A_xGoals_with_earned_rebounds', 'OnIce_A_xGoals_with_earned_rebounds_scoreAdjusted', 'OnIce_A_xGoals_with_earned_rebounds_scoreFlurryAdjusted', 'OffIce_F_xGoals', 'OffIce_A_xGoals', 'OffIce_F_shotAttempts', 'OffIce_A_shotAttempts', 'xGoalsForAfterShifts', 'xGoalsAgainstAfterShifts', 'corsiForAfterShifts', 'corsiAgainstAfterShifts', 'fenwickForAfterShifts', 'fenwickAgainstAfterShifts']\n"
    }
   ],
   "source": [
    "pd.set_option(\"display.max_columns\", 200)\n",
    "print(career_game_by_game.columns.to_list())"
   ]
  },
  {
   "cell_type": "code",
   "execution_count": 21,
   "metadata": {},
   "outputs": [
    {
     "data": {
      "text/plain": "playerId                       int64\nseason                         int64\nname                          object\ngameId                         int64\nplayerTeam                    object\n                              ...   \nxGoalsAgainstAfterShifts     float64\ncorsiForAfterShifts          float64\ncorsiAgainstAfterShifts      float64\nfenwickForAfterShifts        float64\nfenwickAgainstAfterShifts    float64\nLength: 157, dtype: object"
     },
     "execution_count": 21,
     "metadata": {},
     "output_type": "execute_result"
    }
   ],
   "source": [
    "career_game_by_game.dtypes"
   ]
  },
  {
   "cell_type": "markdown",
   "metadata": {},
   "source": [
    "### Ideas for Mika EDA:\n",
    "\n",
    "- game by game timeseries line graph of \"onIce_xGoalsPercentage\". Can expand to year-by-year bar graphs. Can also expand by team. Should also cross-reference this for discovering which teams are teams Mika is best able to score on and which teams are harder for Mika to score on. \n",
    "\n",
    "- look into \"offIce_xGoalsPercentage\" with similar format above ^\n",
    "\n",
    "- look into corsi percentage with similar format above^"
   ]
  },
  {
   "cell_type": "code",
   "execution_count": null,
   "metadata": {},
   "outputs": [],
   "source": []
  }
 ]
}