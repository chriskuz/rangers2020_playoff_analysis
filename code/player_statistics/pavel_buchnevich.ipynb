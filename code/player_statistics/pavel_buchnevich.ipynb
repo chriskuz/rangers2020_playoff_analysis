{
 "nbformat": 4,
 "nbformat_minor": 2,
 "metadata": {
  "language_info": {
   "name": "python",
   "codemirror_mode": {
    "name": "ipython",
    "version": 3
   },
   "version": "3.7.6-final"
  },
  "orig_nbformat": 2,
  "file_extension": ".py",
  "mimetype": "text/x-python",
  "name": "python",
  "npconvert_exporter": "python",
  "pygments_lexer": "ipython3",
  "version": 3,
  "kernelspec": {
   "name": "python37664bithockeyenvcondae52d2c0d4f3c4bc5870f01ced0fd1088",
   "display_name": "Python 3.7.6 64-bit ('hockey_env': conda)"
  }
 },
 "cells": [
  {
   "cell_type": "code",
   "execution_count": 1,
   "metadata": {},
   "outputs": [],
   "source": [
    "import pandas as pd\n",
    "import matplotlib.pyplot as plt\n",
    "import seaborn as sns\n",
    "import numpy as np"
   ]
  },
  {
   "cell_type": "code",
   "execution_count": 2,
   "metadata": {},
   "outputs": [],
   "source": [
    "career_game_by_game = pd.read_csv('http://moneypuck.com/moneypuck/playerData/careers/gameByGame/regular/skaters/8477402.csv')\n",
    "career_summarrized_by_season = pd.read_csv('http://moneypuck.com/moneypuck/playerData/careers/perSeason/regular/skaters/8467514.csv')"
   ]
  },
  {
   "cell_type": "code",
   "execution_count": null,
   "metadata": {},
   "outputs": [],
   "source": []
  }
 ]
}